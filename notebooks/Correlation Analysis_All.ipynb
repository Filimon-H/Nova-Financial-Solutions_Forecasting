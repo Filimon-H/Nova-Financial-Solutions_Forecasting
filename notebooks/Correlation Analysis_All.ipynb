{
 "cells": [
  {
   "cell_type": "code",
   "execution_count": 31,
   "id": "74d79324",
   "metadata": {},
   "outputs": [
    {
     "data": {
      "text/html": [
       "<div>\n",
       "<style scoped>\n",
       "    .dataframe tbody tr th:only-of-type {\n",
       "        vertical-align: middle;\n",
       "    }\n",
       "\n",
       "    .dataframe tbody tr th {\n",
       "        vertical-align: top;\n",
       "    }\n",
       "\n",
       "    .dataframe thead th {\n",
       "        text-align: right;\n",
       "    }\n",
       "</style>\n",
       "<table border=\"1\" class=\"dataframe\">\n",
       "  <thead>\n",
       "    <tr style=\"text-align: right;\">\n",
       "      <th></th>\n",
       "      <th>Date</th>\n",
       "      <th>Open</th>\n",
       "      <th>High</th>\n",
       "      <th>Low</th>\n",
       "      <th>Close</th>\n",
       "      <th>Adj Close</th>\n",
       "      <th>Volume</th>\n",
       "      <th>Dividends</th>\n",
       "      <th>Stock Splits</th>\n",
       "      <th>SMA_20</th>\n",
       "      <th>RSI_14</th>\n",
       "      <th>MACD</th>\n",
       "      <th>MACD_Signal</th>\n",
       "      <th>MACD_Hist</th>\n",
       "      <th>Ticker</th>\n",
       "    </tr>\n",
       "  </thead>\n",
       "  <tbody>\n",
       "    <tr>\n",
       "      <th>0</th>\n",
       "      <td>1981-01-30</td>\n",
       "      <td>0.127232</td>\n",
       "      <td>0.127232</td>\n",
       "      <td>0.126116</td>\n",
       "      <td>0.126116</td>\n",
       "      <td>0.097223</td>\n",
       "      <td>46188800</td>\n",
       "      <td>0.0</td>\n",
       "      <td>0.0</td>\n",
       "      <td>0.140681</td>\n",
       "      <td>39.642837</td>\n",
       "      <td>-0.000377</td>\n",
       "      <td>0.001789</td>\n",
       "      <td>-0.002166</td>\n",
       "      <td>AAPL</td>\n",
       "    </tr>\n",
       "    <tr>\n",
       "      <th>1</th>\n",
       "      <td>1981-02-02</td>\n",
       "      <td>0.119420</td>\n",
       "      <td>0.119420</td>\n",
       "      <td>0.118862</td>\n",
       "      <td>0.118862</td>\n",
       "      <td>0.091630</td>\n",
       "      <td>23766400</td>\n",
       "      <td>0.0</td>\n",
       "      <td>0.0</td>\n",
       "      <td>0.139090</td>\n",
       "      <td>34.943807</td>\n",
       "      <td>-0.001930</td>\n",
       "      <td>0.001045</td>\n",
       "      <td>-0.002975</td>\n",
       "      <td>AAPL</td>\n",
       "    </tr>\n",
       "    <tr>\n",
       "      <th>2</th>\n",
       "      <td>1981-02-03</td>\n",
       "      <td>0.123326</td>\n",
       "      <td>0.123884</td>\n",
       "      <td>0.123326</td>\n",
       "      <td>0.123326</td>\n",
       "      <td>0.095072</td>\n",
       "      <td>19152000</td>\n",
       "      <td>0.0</td>\n",
       "      <td>0.0</td>\n",
       "      <td>0.138058</td>\n",
       "      <td>39.682098</td>\n",
       "      <td>-0.002769</td>\n",
       "      <td>0.000282</td>\n",
       "      <td>-0.003051</td>\n",
       "      <td>AAPL</td>\n",
       "    </tr>\n",
       "    <tr>\n",
       "      <th>3</th>\n",
       "      <td>1981-02-04</td>\n",
       "      <td>0.127790</td>\n",
       "      <td>0.128348</td>\n",
       "      <td>0.127790</td>\n",
       "      <td>0.127790</td>\n",
       "      <td>0.098513</td>\n",
       "      <td>27865600</td>\n",
       "      <td>0.0</td>\n",
       "      <td>0.0</td>\n",
       "      <td>0.137556</td>\n",
       "      <td>44.069116</td>\n",
       "      <td>-0.003038</td>\n",
       "      <td>-0.000382</td>\n",
       "      <td>-0.002656</td>\n",
       "      <td>AAPL</td>\n",
       "    </tr>\n",
       "    <tr>\n",
       "      <th>4</th>\n",
       "      <td>1981-02-05</td>\n",
       "      <td>0.127790</td>\n",
       "      <td>0.128906</td>\n",
       "      <td>0.127790</td>\n",
       "      <td>0.127790</td>\n",
       "      <td>0.098513</td>\n",
       "      <td>7929600</td>\n",
       "      <td>0.0</td>\n",
       "      <td>0.0</td>\n",
       "      <td>0.137193</td>\n",
       "      <td>44.069116</td>\n",
       "      <td>-0.003215</td>\n",
       "      <td>-0.000949</td>\n",
       "      <td>-0.002266</td>\n",
       "      <td>AAPL</td>\n",
       "    </tr>\n",
       "  </tbody>\n",
       "</table>\n",
       "</div>"
      ],
      "text/plain": [
       "        Date      Open      High       Low     Close  Adj Close    Volume  \\\n",
       "0 1981-01-30  0.127232  0.127232  0.126116  0.126116   0.097223  46188800   \n",
       "1 1981-02-02  0.119420  0.119420  0.118862  0.118862   0.091630  23766400   \n",
       "2 1981-02-03  0.123326  0.123884  0.123326  0.123326   0.095072  19152000   \n",
       "3 1981-02-04  0.127790  0.128348  0.127790  0.127790   0.098513  27865600   \n",
       "4 1981-02-05  0.127790  0.128906  0.127790  0.127790   0.098513   7929600   \n",
       "\n",
       "   Dividends  Stock Splits    SMA_20     RSI_14      MACD  MACD_Signal  \\\n",
       "0        0.0           0.0  0.140681  39.642837 -0.000377     0.001789   \n",
       "1        0.0           0.0  0.139090  34.943807 -0.001930     0.001045   \n",
       "2        0.0           0.0  0.138058  39.682098 -0.002769     0.000282   \n",
       "3        0.0           0.0  0.137556  44.069116 -0.003038    -0.000382   \n",
       "4        0.0           0.0  0.137193  44.069116 -0.003215    -0.000949   \n",
       "\n",
       "   MACD_Hist Ticker  \n",
       "0  -0.002166   AAPL  \n",
       "1  -0.002975   AAPL  \n",
       "2  -0.003051   AAPL  \n",
       "3  -0.002656   AAPL  \n",
       "4  -0.002266   AAPL  "
      ]
     },
     "execution_count": 31,
     "metadata": {},
     "output_type": "execute_result"
    }
   ],
   "source": [
    "import pandas as pd\n",
    "import os\n",
    "import sys\n",
    "\n",
    "# Go up one directory, then into scripts/\n",
    "sys.path.append(os.path.abspath(\"../scripts\"))\n",
    "\n",
    "from indicators import add_technical_indicators\n",
    "\n",
    "# Define the data folder (relative to notebook location)\n",
    "data_dir = '../data'\n",
    "\n",
    "# Mapping of file names to ticker symbols\n",
    "file_ticker_map = {\n",
    "    \"AAPL_historical_data.csv\": \"AAPL\",\n",
    "    \"AMZN_historical_data.csv\": \"AMZN\",\n",
    "    \"GOOG_historical_data.csv\": \"GOOG\",\n",
    "    \"META_historical_data.csv\": \"META\",\n",
    "    \"MSFT_historical_data.csv\": \"MSFT\",\n",
    "    \"NVDA_historical_data.csv\": \"NVDA\",\n",
    "    \"TSLA_historical_data.csv\": \"TSLA\"\n",
    "}\n",
    "\n",
    "def load_and_enrich_stock(file_path, ticker):\n",
    "    \"\"\"\n",
    "    Load stock CSV, compute indicators, clean, and tag with ticker.\n",
    "    \"\"\"\n",
    "    df = pd.read_csv(file_path)\n",
    "    \n",
    "    # Parse and sort dates\n",
    "    df['Date'] = pd.to_datetime(df['Date'], errors='coerce')\n",
    "    df.dropna(subset=['Date'], inplace=True)\n",
    "    df.sort_values('Date', inplace=True)\n",
    "\n",
    "    # Add technical indicators using TA-Lib\n",
    "    df = add_technical_indicators(df)\n",
    "\n",
    "    # Drop rows with any missing values in the indicator columns\n",
    "    required_cols = ['SMA_20', 'RSI_14', 'MACD', 'MACD_Signal', 'MACD_Hist']\n",
    "    df.dropna(subset=required_cols, inplace=True)\n",
    "\n",
    "    # Add ticker label\n",
    "    df['Ticker'] = ticker\n",
    "\n",
    "    return df\n",
    "\n",
    "# Load and combine all stock data\n",
    "stock_frames = [\n",
    "    load_and_enrich_stock(os.path.join(data_dir, file), ticker)\n",
    "    for file, ticker in file_ticker_map.items()\n",
    "]\n",
    "\n",
    "# Combine into a single DataFrame\n",
    "stock_df = pd.concat(stock_frames, ignore_index=True)\n",
    "\n",
    "# Preview the cleaned and enriched dataset\n",
    "stock_df.head()\n"
   ]
  },
  {
   "cell_type": "markdown",
   "id": "6b8e4bbd",
   "metadata": {},
   "source": [
    "Mereged all the Stock data into one dataframe"
   ]
  },
  {
   "cell_type": "code",
   "execution_count": 32,
   "id": "a8b27c50",
   "metadata": {},
   "outputs": [
    {
     "data": {
      "text/plain": [
       "(45197, 15)"
      ]
     },
     "execution_count": 32,
     "metadata": {},
     "output_type": "execute_result"
    }
   ],
   "source": [
    "stock_df.shape  # Display the shape of the DataFrame to confirm successful loading and processing"
   ]
  },
  {
   "cell_type": "code",
   "execution_count": 33,
   "id": "ccb5e38b",
   "metadata": {},
   "outputs": [
    {
     "name": "stdout",
     "output_type": "stream",
     "text": [
      "['AAPL' 'AMZN' 'GOOG' 'META' 'MSFT' 'NVDA' 'TSLA']\n"
     ]
    }
   ],
   "source": [
    "print(stock_df['Ticker'].unique())"
   ]
  },
  {
   "cell_type": "markdown",
   "id": "e1d5dadf",
   "metadata": {},
   "source": [
    "To check we have the needed ticker name in the columns"
   ]
  },
  {
   "cell_type": "code",
   "execution_count": 34,
   "id": "380939b1",
   "metadata": {},
   "outputs": [
    {
     "name": "stdout",
     "output_type": "stream",
     "text": [
      "Column names in the CSV file: ['Unnamed: 0', 'headline', 'url', 'publisher', 'date', 'stock']\n",
      "                       Date\n",
      "0 2011-04-27 21:01:48-04:00\n",
      "1 2011-04-28 13:49:29-04:00\n",
      "2 2011-04-28 15:00:36-04:00\n",
      "3 2011-04-29 13:47:06-04:00\n",
      "4 2011-04-29 16:11:05-04:00\n"
     ]
    }
   ],
   "source": [
    "import pandas as pd\n",
    "\n",
    "# Load news/sentiment data\n",
    "news_df = pd.read_csv('../data/raw_analyst_ratings.csv')\n",
    "\n",
    "# Display column names to debug naming issues\n",
    "print(\"Column names in the CSV file:\", news_df.columns.tolist())\n",
    "\n",
    "# Attempt to detect and normalize the date column\n",
    "possible_date_cols = ['Date', 'date', 'DATE', 'Timestamp', 'timestamp']\n",
    "date_col = None\n",
    "\n",
    "# Find which column is likely the date column\n",
    "for col in news_df.columns:\n",
    "    if col.strip() in possible_date_cols:\n",
    "        date_col = col\n",
    "        break\n",
    "\n",
    "if date_col is None:\n",
    "    raise KeyError(\"No recognizable date column found in the news dataset.\")\n",
    "\n",
    "# Convert and clean date column\n",
    "news_df['Date'] = pd.to_datetime(news_df[date_col], errors='coerce')\n",
    "news_df.dropna(subset=['Date'], inplace=True)\n",
    "news_df.sort_values('Date', inplace=True)\n",
    "\n",
    "# Reset index after cleaning\n",
    "news_df.reset_index(drop=True, inplace=True)\n",
    "\n",
    "# Preview cleaned news data\n",
    "print(news_df[['Date']].head())\n"
   ]
  },
  {
   "cell_type": "markdown",
   "id": "9f05b6b1",
   "metadata": {},
   "source": [
    "Cleaned the news data"
   ]
  },
  {
   "cell_type": "code",
   "execution_count": 36,
   "id": "e6c3166b",
   "metadata": {},
   "outputs": [
    {
     "data": {
      "text/html": [
       "<div>\n",
       "<style scoped>\n",
       "    .dataframe tbody tr th:only-of-type {\n",
       "        vertical-align: middle;\n",
       "    }\n",
       "\n",
       "    .dataframe tbody tr th {\n",
       "        vertical-align: top;\n",
       "    }\n",
       "\n",
       "    .dataframe thead th {\n",
       "        text-align: right;\n",
       "    }\n",
       "</style>\n",
       "<table border=\"1\" class=\"dataframe\">\n",
       "  <thead>\n",
       "    <tr style=\"text-align: right;\">\n",
       "      <th></th>\n",
       "      <th>Unnamed: 0</th>\n",
       "      <th>headline</th>\n",
       "      <th>url</th>\n",
       "      <th>publisher</th>\n",
       "      <th>date</th>\n",
       "      <th>stock</th>\n",
       "      <th>Date</th>\n",
       "    </tr>\n",
       "  </thead>\n",
       "  <tbody>\n",
       "    <tr>\n",
       "      <th>0</th>\n",
       "      <td>357064</td>\n",
       "      <td>ETFs To Watch April 28, 2011 (DGP, IEO, PRN, IDX)</td>\n",
       "      <td>https://www.benzinga.com/etfs/bond-etfs/11/04/...</td>\n",
       "      <td>ETF Professor</td>\n",
       "      <td>2011-04-27 21:01:48-04:00</td>\n",
       "      <td>DGP</td>\n",
       "      <td>2011-04-27 21:01:48-04:00</td>\n",
       "    </tr>\n",
       "    <tr>\n",
       "      <th>1</th>\n",
       "      <td>437774</td>\n",
       "      <td>A New Regional Emerging Markets ETF</td>\n",
       "      <td>https://www.benzinga.com/etfs/emerging-market-...</td>\n",
       "      <td>Sam Subramanian</td>\n",
       "      <td>2011-04-28 13:49:29-04:00</td>\n",
       "      <td>ESR</td>\n",
       "      <td>2011-04-28 13:49:29-04:00</td>\n",
       "    </tr>\n",
       "    <tr>\n",
       "      <th>2</th>\n",
       "      <td>350150</td>\n",
       "      <td>Dejour Extends Credit Facility to October 31st...</td>\n",
       "      <td>https://www.benzinga.com/news/11/04/1041764/de...</td>\n",
       "      <td>Theo Kratz</td>\n",
       "      <td>2011-04-28 15:00:36-04:00</td>\n",
       "      <td>DEJ</td>\n",
       "      <td>2011-04-28 15:00:36-04:00</td>\n",
       "    </tr>\n",
       "    <tr>\n",
       "      <th>3</th>\n",
       "      <td>49280</td>\n",
       "      <td>ETF Showdown: Crouching Tigers, Hidden ETFs</td>\n",
       "      <td>https://www.benzinga.com/etfs/emerging-market-...</td>\n",
       "      <td>ETF Professor</td>\n",
       "      <td>2011-04-29 13:47:06-04:00</td>\n",
       "      <td>AIA</td>\n",
       "      <td>2011-04-29 13:47:06-04:00</td>\n",
       "    </tr>\n",
       "    <tr>\n",
       "      <th>4</th>\n",
       "      <td>539428</td>\n",
       "      <td>The GDL Fund to Redeem Its Outstanding 8.50% S...</td>\n",
       "      <td>https://www.benzinga.com/news/11/04/1045464/th...</td>\n",
       "      <td>Benzinga Staff</td>\n",
       "      <td>2011-04-29 16:11:05-04:00</td>\n",
       "      <td>GDL</td>\n",
       "      <td>2011-04-29 16:11:05-04:00</td>\n",
       "    </tr>\n",
       "  </tbody>\n",
       "</table>\n",
       "</div>"
      ],
      "text/plain": [
       "   Unnamed: 0                                           headline  \\\n",
       "0      357064  ETFs To Watch April 28, 2011 (DGP, IEO, PRN, IDX)   \n",
       "1      437774                A New Regional Emerging Markets ETF   \n",
       "2      350150  Dejour Extends Credit Facility to October 31st...   \n",
       "3       49280        ETF Showdown: Crouching Tigers, Hidden ETFs   \n",
       "4      539428  The GDL Fund to Redeem Its Outstanding 8.50% S...   \n",
       "\n",
       "                                                 url        publisher  \\\n",
       "0  https://www.benzinga.com/etfs/bond-etfs/11/04/...    ETF Professor   \n",
       "1  https://www.benzinga.com/etfs/emerging-market-...  Sam Subramanian   \n",
       "2  https://www.benzinga.com/news/11/04/1041764/de...       Theo Kratz   \n",
       "3  https://www.benzinga.com/etfs/emerging-market-...    ETF Professor   \n",
       "4  https://www.benzinga.com/news/11/04/1045464/th...   Benzinga Staff   \n",
       "\n",
       "                        date stock                      Date  \n",
       "0  2011-04-27 21:01:48-04:00   DGP 2011-04-27 21:01:48-04:00  \n",
       "1  2011-04-28 13:49:29-04:00   ESR 2011-04-28 13:49:29-04:00  \n",
       "2  2011-04-28 15:00:36-04:00   DEJ 2011-04-28 15:00:36-04:00  \n",
       "3  2011-04-29 13:47:06-04:00   AIA 2011-04-29 13:47:06-04:00  \n",
       "4  2011-04-29 16:11:05-04:00   GDL 2011-04-29 16:11:05-04:00  "
      ]
     },
     "execution_count": 36,
     "metadata": {},
     "output_type": "execute_result"
    }
   ],
   "source": [
    "news_df.head()  # Display the first few rows of the cleaned news DataFrame"
   ]
  },
  {
   "cell_type": "code",
   "execution_count": 37,
   "id": "b3aa6e12",
   "metadata": {},
   "outputs": [
    {
     "data": {
      "text/plain": [
       "(55987, 7)"
      ]
     },
     "execution_count": 37,
     "metadata": {},
     "output_type": "execute_result"
    }
   ],
   "source": [
    "news_df.shape  # Display the shape of the DataFrame to confirm successful loading and processing"
   ]
  },
  {
   "cell_type": "markdown",
   "id": "565db2c1",
   "metadata": {},
   "source": [
    "To see how much news data we have for each tickers "
   ]
  },
  {
   "cell_type": "code",
   "execution_count": 38,
   "id": "db544266",
   "metadata": {},
   "outputs": [
    {
     "name": "stdout",
     "output_type": "stream",
     "text": [
      "Number of news articles related to AAPL: 10\n",
      "Number of news articles related to AMZN: 10\n",
      "Number of news articles related to GOOG: 10\n",
      "Number of news articles related to META: 0\n",
      "Number of news articles related to MSFT: 0\n",
      "Number of news articles related to NVDA: 10\n",
      "Number of news articles related to TSLA: 10\n"
     ]
    }
   ],
   "source": [
    "tickers = ['AAPL', 'AMZN', 'GOOG', 'META', 'MSFT', 'NVDA', 'TSLA']\n",
    "\n",
    "for ticker in tickers:\n",
    "    count = news_df[news_df['stock'] == ticker].shape[0]\n",
    "    print(f\"Number of news articles related to {ticker}: {count}\")\n"
   ]
  },
  {
   "cell_type": "markdown",
   "id": "9521174a",
   "metadata": {},
   "source": [
    "Sentiment Anaylyses"
   ]
  },
  {
   "cell_type": "code",
   "execution_count": 39,
   "id": "934211db",
   "metadata": {},
   "outputs": [
    {
     "name": "stderr",
     "output_type": "stream",
     "text": [
      "[nltk_data] Downloading package vader_lexicon to\n",
      "[nltk_data]     C:\\Users\\User\\AppData\\Roaming\\nltk_data...\n",
      "[nltk_data]   Package vader_lexicon is already up-to-date!\n"
     ]
    },
    {
     "data": {
      "text/html": [
       "<div>\n",
       "<style scoped>\n",
       "    .dataframe tbody tr th:only-of-type {\n",
       "        vertical-align: middle;\n",
       "    }\n",
       "\n",
       "    .dataframe tbody tr th {\n",
       "        vertical-align: top;\n",
       "    }\n",
       "\n",
       "    .dataframe thead th {\n",
       "        text-align: right;\n",
       "    }\n",
       "</style>\n",
       "<table border=\"1\" class=\"dataframe\">\n",
       "  <thead>\n",
       "    <tr style=\"text-align: right;\">\n",
       "      <th></th>\n",
       "      <th>Date</th>\n",
       "      <th>Ticker</th>\n",
       "      <th>sentiment</th>\n",
       "    </tr>\n",
       "  </thead>\n",
       "  <tbody>\n",
       "    <tr>\n",
       "      <th>0</th>\n",
       "      <td>2011-04-27</td>\n",
       "      <td>DGP</td>\n",
       "      <td>0.0000</td>\n",
       "    </tr>\n",
       "    <tr>\n",
       "      <th>1</th>\n",
       "      <td>2011-04-28</td>\n",
       "      <td>DEJ</td>\n",
       "      <td>0.2500</td>\n",
       "    </tr>\n",
       "    <tr>\n",
       "      <th>2</th>\n",
       "      <td>2011-04-28</td>\n",
       "      <td>ESR</td>\n",
       "      <td>0.0000</td>\n",
       "    </tr>\n",
       "    <tr>\n",
       "      <th>3</th>\n",
       "      <td>2011-04-29</td>\n",
       "      <td>AIA</td>\n",
       "      <td>0.0000</td>\n",
       "    </tr>\n",
       "    <tr>\n",
       "      <th>4</th>\n",
       "      <td>2011-04-29</td>\n",
       "      <td>GDL</td>\n",
       "      <td>0.7351</td>\n",
       "    </tr>\n",
       "  </tbody>\n",
       "</table>\n",
       "</div>"
      ],
      "text/plain": [
       "         Date Ticker  sentiment\n",
       "0  2011-04-27    DGP     0.0000\n",
       "1  2011-04-28    DEJ     0.2500\n",
       "2  2011-04-28    ESR     0.0000\n",
       "3  2011-04-29    AIA     0.0000\n",
       "4  2011-04-29    GDL     0.7351"
      ]
     },
     "execution_count": 39,
     "metadata": {},
     "output_type": "execute_result"
    }
   ],
   "source": [
    "import nltk\n",
    "from nltk.sentiment import SentimentIntensityAnalyzer\n",
    "\n",
    "# Make sure VADER is downloaded\n",
    "nltk.download('vader_lexicon')\n",
    "\n",
    "# Initialize sentiment analyzer\n",
    "sia = SentimentIntensityAnalyzer()\n",
    "\n",
    "# Compute sentiment scores\n",
    "news_df['sentiment'] = news_df['headline'].apply(lambda x: sia.polarity_scores(str(x))['compound'])\n",
    "\n",
    "# Strip time and normalize 'Date' to date-only (no time)\n",
    "news_df['Date'] = pd.to_datetime(news_df['Date']).dt.date\n",
    "\n",
    "# Standardize ticker names (in case they're not uppercased)\n",
    "news_df['stock'] = news_df['stock'].str.upper()\n",
    "\n",
    "# Aggregate sentiment by (Date, stock)\n",
    "daily_sentiment = news_df.groupby(['Date', 'stock'])['sentiment'].mean().reset_index()\n",
    "\n",
    "# Rename columns to match stock_df format\n",
    "daily_sentiment.rename(columns={'stock': 'Ticker'}, inplace=True)\n",
    "\n",
    "# Preview\n",
    "daily_sentiment.head()\n"
   ]
  },
  {
   "cell_type": "markdown",
   "id": "14c97891",
   "metadata": {},
   "source": [
    "To see all the sentiment data for all tickers "
   ]
  },
  {
   "cell_type": "code",
   "execution_count": 40,
   "id": "fa6a8e99",
   "metadata": {},
   "outputs": [
    {
     "data": {
      "text/plain": [
       "(44196, 3)"
      ]
     },
     "execution_count": 40,
     "metadata": {},
     "output_type": "execute_result"
    }
   ],
   "source": [
    "daily_sentiment.shape  # Display the shape of the DataFrame to confirm successful loading and processing"
   ]
  },
  {
   "cell_type": "markdown",
   "id": "010c8cac",
   "metadata": {},
   "source": [
    "Since we only want spesicfic tickers to be anaylyzed we need to create a new DF to store the filtered data"
   ]
  },
  {
   "cell_type": "code",
   "execution_count": 41,
   "id": "093f98fc",
   "metadata": {},
   "outputs": [
    {
     "name": "stdout",
     "output_type": "stream",
     "text": [
      "             Date Ticker  sentiment\n",
      "39993  2020-05-31   NVDA   0.421500\n",
      "40524  2020-06-02   NVDA   0.220200\n",
      "41287  2020-06-04   GOOG   0.000000\n",
      "41787  2020-06-05   GOOG  -0.411033\n",
      "42474  2020-06-08   GOOG   0.542300\n"
     ]
    }
   ],
   "source": [
    "# Define the list of tickers you care about\n",
    "tickers = ['AAPL', 'AMZN', 'GOOG', 'META', 'MSFT', 'NVDA', 'TSLA']\n",
    "\n",
    "# Filter daily_sentiment to keep only those tickers\n",
    "Needed_Tickers = daily_sentiment[daily_sentiment['Ticker'].isin(tickers)].copy()\n",
    "\n",
    "# Preview the result\n",
    "print(Needed_Tickers.head())\n"
   ]
  },
  {
   "cell_type": "code",
   "execution_count": 42,
   "id": "03008c5a",
   "metadata": {},
   "outputs": [
    {
     "data": {
      "text/html": [
       "<div>\n",
       "<style scoped>\n",
       "    .dataframe tbody tr th:only-of-type {\n",
       "        vertical-align: middle;\n",
       "    }\n",
       "\n",
       "    .dataframe tbody tr th {\n",
       "        vertical-align: top;\n",
       "    }\n",
       "\n",
       "    .dataframe thead th {\n",
       "        text-align: right;\n",
       "    }\n",
       "</style>\n",
       "<table border=\"1\" class=\"dataframe\">\n",
       "  <thead>\n",
       "    <tr style=\"text-align: right;\">\n",
       "      <th></th>\n",
       "      <th>Date</th>\n",
       "      <th>Ticker</th>\n",
       "      <th>sentiment</th>\n",
       "    </tr>\n",
       "  </thead>\n",
       "  <tbody>\n",
       "    <tr>\n",
       "      <th>0</th>\n",
       "      <td>2020-06-09</td>\n",
       "      <td>AAPL</td>\n",
       "      <td>0.246900</td>\n",
       "    </tr>\n",
       "    <tr>\n",
       "      <th>1</th>\n",
       "      <td>2020-06-10</td>\n",
       "      <td>AAPL</td>\n",
       "      <td>0.198850</td>\n",
       "    </tr>\n",
       "    <tr>\n",
       "      <th>2</th>\n",
       "      <td>2020-06-09</td>\n",
       "      <td>AMZN</td>\n",
       "      <td>0.077775</td>\n",
       "    </tr>\n",
       "    <tr>\n",
       "      <th>3</th>\n",
       "      <td>2020-06-10</td>\n",
       "      <td>AMZN</td>\n",
       "      <td>0.391233</td>\n",
       "    </tr>\n",
       "    <tr>\n",
       "      <th>4</th>\n",
       "      <td>2020-06-04</td>\n",
       "      <td>GOOG</td>\n",
       "      <td>0.000000</td>\n",
       "    </tr>\n",
       "    <tr>\n",
       "      <th>5</th>\n",
       "      <td>2020-06-05</td>\n",
       "      <td>GOOG</td>\n",
       "      <td>-0.411033</td>\n",
       "    </tr>\n",
       "    <tr>\n",
       "      <th>6</th>\n",
       "      <td>2020-06-08</td>\n",
       "      <td>GOOG</td>\n",
       "      <td>0.542300</td>\n",
       "    </tr>\n",
       "    <tr>\n",
       "      <th>7</th>\n",
       "      <td>2020-06-09</td>\n",
       "      <td>GOOG</td>\n",
       "      <td>0.000000</td>\n",
       "    </tr>\n",
       "    <tr>\n",
       "      <th>8</th>\n",
       "      <td>2020-06-10</td>\n",
       "      <td>GOOG</td>\n",
       "      <td>0.295833</td>\n",
       "    </tr>\n",
       "    <tr>\n",
       "      <th>9</th>\n",
       "      <td>2020-05-31</td>\n",
       "      <td>NVDA</td>\n",
       "      <td>0.421500</td>\n",
       "    </tr>\n",
       "    <tr>\n",
       "      <th>10</th>\n",
       "      <td>2020-06-02</td>\n",
       "      <td>NVDA</td>\n",
       "      <td>0.220200</td>\n",
       "    </tr>\n",
       "    <tr>\n",
       "      <th>11</th>\n",
       "      <td>2020-06-08</td>\n",
       "      <td>NVDA</td>\n",
       "      <td>0.168667</td>\n",
       "    </tr>\n",
       "    <tr>\n",
       "      <th>12</th>\n",
       "      <td>2020-06-09</td>\n",
       "      <td>NVDA</td>\n",
       "      <td>0.729600</td>\n",
       "    </tr>\n",
       "    <tr>\n",
       "      <th>13</th>\n",
       "      <td>2020-06-10</td>\n",
       "      <td>NVDA</td>\n",
       "      <td>0.243200</td>\n",
       "    </tr>\n",
       "    <tr>\n",
       "      <th>14</th>\n",
       "      <td>2020-06-10</td>\n",
       "      <td>TSLA</td>\n",
       "      <td>0.236890</td>\n",
       "    </tr>\n",
       "  </tbody>\n",
       "</table>\n",
       "</div>"
      ],
      "text/plain": [
       "          Date Ticker  sentiment\n",
       "0   2020-06-09   AAPL   0.246900\n",
       "1   2020-06-10   AAPL   0.198850\n",
       "2   2020-06-09   AMZN   0.077775\n",
       "3   2020-06-10   AMZN   0.391233\n",
       "4   2020-06-04   GOOG   0.000000\n",
       "5   2020-06-05   GOOG  -0.411033\n",
       "6   2020-06-08   GOOG   0.542300\n",
       "7   2020-06-09   GOOG   0.000000\n",
       "8   2020-06-10   GOOG   0.295833\n",
       "9   2020-05-31   NVDA   0.421500\n",
       "10  2020-06-02   NVDA   0.220200\n",
       "11  2020-06-08   NVDA   0.168667\n",
       "12  2020-06-09   NVDA   0.729600\n",
       "13  2020-06-10   NVDA   0.243200\n",
       "14  2020-06-10   TSLA   0.236890"
      ]
     },
     "execution_count": 42,
     "metadata": {},
     "output_type": "execute_result"
    }
   ],
   "source": [
    "Needed_Tickers.sort_values(by=[ 'Ticker','Date'], inplace=True)\n",
    "Needed_Tickers.reset_index(drop=True, inplace=True)\n",
    "Needed_Tickers.head(20)"
   ]
  },
  {
   "cell_type": "markdown",
   "id": "e4a64f35",
   "metadata": {},
   "source": [
    "There is no META and MSFT ticker in the data"
   ]
  },
  {
   "cell_type": "markdown",
   "id": "e2f31c31",
   "metadata": {},
   "source": [
    "Calcualting Daily Return "
   ]
  },
  {
   "cell_type": "code",
   "execution_count": 47,
   "id": "a1ab4fba",
   "metadata": {},
   "outputs": [
    {
     "data": {
      "text/html": [
       "<div>\n",
       "<style scoped>\n",
       "    .dataframe tbody tr th:only-of-type {\n",
       "        vertical-align: middle;\n",
       "    }\n",
       "\n",
       "    .dataframe tbody tr th {\n",
       "        vertical-align: top;\n",
       "    }\n",
       "\n",
       "    .dataframe thead th {\n",
       "        text-align: right;\n",
       "    }\n",
       "</style>\n",
       "<table border=\"1\" class=\"dataframe\">\n",
       "  <thead>\n",
       "    <tr style=\"text-align: right;\">\n",
       "      <th></th>\n",
       "      <th>Date</th>\n",
       "      <th>Ticker</th>\n",
       "      <th>Close</th>\n",
       "      <th>Daily_Return</th>\n",
       "    </tr>\n",
       "  </thead>\n",
       "  <tbody>\n",
       "    <tr>\n",
       "      <th>2</th>\n",
       "      <td>1981-02-03</td>\n",
       "      <td>AAPL</td>\n",
       "      <td>0.123326</td>\n",
       "      <td>0.037556</td>\n",
       "    </tr>\n",
       "    <tr>\n",
       "      <th>3</th>\n",
       "      <td>1981-02-04</td>\n",
       "      <td>AAPL</td>\n",
       "      <td>0.127790</td>\n",
       "      <td>0.036197</td>\n",
       "    </tr>\n",
       "    <tr>\n",
       "      <th>4</th>\n",
       "      <td>1981-02-05</td>\n",
       "      <td>AAPL</td>\n",
       "      <td>0.127790</td>\n",
       "      <td>0.000000</td>\n",
       "    </tr>\n",
       "    <tr>\n",
       "      <th>5</th>\n",
       "      <td>1981-02-06</td>\n",
       "      <td>AAPL</td>\n",
       "      <td>0.128348</td>\n",
       "      <td>0.004366</td>\n",
       "    </tr>\n",
       "    <tr>\n",
       "      <th>6</th>\n",
       "      <td>1981-02-09</td>\n",
       "      <td>AAPL</td>\n",
       "      <td>0.121652</td>\n",
       "      <td>-0.052171</td>\n",
       "    </tr>\n",
       "  </tbody>\n",
       "</table>\n",
       "</div>"
      ],
      "text/plain": [
       "         Date Ticker     Close  Daily_Return\n",
       "2  1981-02-03   AAPL  0.123326      0.037556\n",
       "3  1981-02-04   AAPL  0.127790      0.036197\n",
       "4  1981-02-05   AAPL  0.127790      0.000000\n",
       "5  1981-02-06   AAPL  0.128348      0.004366\n",
       "6  1981-02-09   AAPL  0.121652     -0.052171"
      ]
     },
     "execution_count": 47,
     "metadata": {},
     "output_type": "execute_result"
    }
   ],
   "source": [
    "# Sort just to be safe\n",
    "stock_df.sort_values(by=['Ticker', 'Date'], inplace=True)\n",
    "\n",
    "# Calculate daily returns grouped by ticker\n",
    "stock_df['Daily_Return'] = stock_df.groupby('Ticker')['Close'].pct_change()\n",
    "\n",
    "# Drop the first row of each group (NaNs from pct_change)\n",
    "stock_df.dropna(subset=['Daily_Return'], inplace=True)\n",
    "\n",
    "# Preview\n",
    "stock_df[['Date', 'Ticker', 'Close', 'Daily_Return']].head()\n"
   ]
  },
  {
   "cell_type": "code",
   "execution_count": 48,
   "id": "5337a938",
   "metadata": {},
   "outputs": [
    {
     "data": {
      "text/plain": [
       "(45183, 16)"
      ]
     },
     "execution_count": 48,
     "metadata": {},
     "output_type": "execute_result"
    }
   ],
   "source": [
    "stock_df.shape  # Display the shape of the DataFrame to confirm successful loading and processing"
   ]
  },
  {
   "cell_type": "code",
   "execution_count": 50,
   "id": "74abe216",
   "metadata": {},
   "outputs": [
    {
     "data": {
      "text/plain": [
       "(44196, 3)"
      ]
     },
     "execution_count": 50,
     "metadata": {},
     "output_type": "execute_result"
    }
   ],
   "source": [
    "daily_sentiment.shape  # Display the shape of the DataFrame to confirm successful loading and processing"
   ]
  },
  {
   "cell_type": "code",
   "execution_count": 51,
   "id": "db193321",
   "metadata": {},
   "outputs": [],
   "source": [
    "daily_sentiment.rename(columns={'sentiment': 'Sentiment_Score'}, inplace=True)\n"
   ]
  },
  {
   "cell_type": "code",
   "execution_count": 54,
   "id": "f7608c82",
   "metadata": {},
   "outputs": [
    {
     "name": "stdout",
     "output_type": "stream",
     "text": [
      "        Date Ticker     Close  daily_return\n",
      "2 1981-02-03   AAPL  0.123326           NaN\n",
      "3 1981-02-04   AAPL  0.127790      0.036197\n",
      "4 1981-02-05   AAPL  0.127790      0.000000\n",
      "5 1981-02-06   AAPL  0.128348      0.004366\n",
      "6 1981-02-09   AAPL  0.121652     -0.052171\n"
     ]
    }
   ],
   "source": [
    "# Ensure Date is datetime and sorted\n",
    "stock_df['Date'] = pd.to_datetime(stock_df['Date'])\n",
    "stock_df.sort_values(by=['Ticker', 'Date'], inplace=True)\n",
    "\n",
    "# Calculate daily return grouped by ticker\n",
    "stock_df['daily_return'] = stock_df.groupby('Ticker')['Close'].pct_change()\n",
    "\n",
    "# Confirm the column is added\n",
    "print(stock_df[['Date', 'Ticker', 'Close', 'daily_return']].head())\n"
   ]
  },
  {
   "cell_type": "markdown",
   "id": "7ece6e38",
   "metadata": {},
   "source": [
    "Merging the data for the specific Tickers data"
   ]
  },
  {
   "cell_type": "code",
   "execution_count": 55,
   "id": "0ef53b89",
   "metadata": {},
   "outputs": [
    {
     "name": "stdout",
     "output_type": "stream",
     "text": [
      "         Date Ticker  sentiment  daily_return\n",
      "0  2020-06-09   AAPL   0.246900      0.031578\n",
      "1  2020-06-10   AAPL   0.198850      0.025728\n",
      "2  2020-06-09   AMZN   0.077775      0.030427\n",
      "3  2020-06-10   AMZN   0.391233      0.017913\n",
      "4  2020-06-04   GOOG   0.000000     -0.016848\n"
     ]
    }
   ],
   "source": [
    "# Ensure date columns match format\n",
    "stock_df['Date'] = pd.to_datetime(stock_df['Date']).dt.date\n",
    "Needed_Tickers['Date'] = pd.to_datetime(Needed_Tickers['Date']).dt.date\n",
    "\n",
    "# Merge on Date and Ticker\n",
    "merged_df = pd.merge(\n",
    "    Needed_Tickers,\n",
    "    stock_df[['Date', 'Ticker', 'daily_return']],\n",
    "    left_on=['Date', 'Ticker'],\n",
    "    right_on=['Date', 'Ticker'],\n",
    "    how='inner'\n",
    ")\n",
    "\n",
    "# Drop missing values just in case\n",
    "merged_df.dropna(subset=['sentiment', 'daily_return'], inplace=True)\n",
    "\n",
    "# Final preview\n",
    "print(merged_df[['Date', 'Ticker', 'sentiment', 'daily_return']].head())\n"
   ]
  },
  {
   "cell_type": "code",
   "execution_count": 56,
   "id": "7ed3c34a",
   "metadata": {},
   "outputs": [
    {
     "data": {
      "text/plain": [
       "(14, 4)"
      ]
     },
     "execution_count": 56,
     "metadata": {},
     "output_type": "execute_result"
    }
   ],
   "source": [
    "merged_df.shape  # Display the shape of the DataFrame to confirm successful merging"
   ]
  },
  {
   "cell_type": "code",
   "execution_count": 61,
   "id": "eb08d28b",
   "metadata": {},
   "outputs": [],
   "source": [
    "tickers = ['AAPL', 'AMZN', 'GOOG', 'META', 'MSFT', 'NVDA', 'TSLA']\n",
    "daily_sentiment_filtered = daily_sentiment[daily_sentiment['Ticker'].isin(tickers)]\n"
   ]
  },
  {
   "cell_type": "markdown",
   "id": "53776a41",
   "metadata": {},
   "source": [
    "Correlation anaylses for the tickers we have "
   ]
  },
  {
   "cell_type": "code",
   "execution_count": 27,
   "id": "46c4d995",
   "metadata": {},
   "outputs": [
    {
     "name": "stdout",
     "output_type": "stream",
     "text": [
      "  Ticker  Pearson  Spearman  Kendall  Data Points\n",
      "0   AAPL      NaN       NaN      NaN            2\n",
      "1   AMZN      NaN       NaN      NaN            2\n",
      "2   GOOG  -0.2344   -0.4104  -0.3162            5\n",
      "3   NVDA   0.5227    0.8000   0.6667            4\n",
      "4   TSLA      NaN       NaN      NaN            1\n"
     ]
    }
   ],
   "source": [
    "from scipy.stats import pearsonr, spearmanr, kendalltau\n",
    "\n",
    "# Store results\n",
    "correlation_results = []\n",
    "\n",
    "# Loop through each ticker\n",
    "for ticker in merged_df['Ticker'].unique():\n",
    "    ticker_df = merged_df[merged_df['Ticker'] == ticker]\n",
    "    \n",
    "    # Drop NaNs\n",
    "    ticker_df = ticker_df.dropna(subset=['sentiment', 'daily_return'])\n",
    "    \n",
    "    if len(ticker_df) > 2:  # At least 3 data points required\n",
    "        pearson_corr, _ = pearsonr(ticker_df['sentiment'], ticker_df['daily_return'])\n",
    "        spearman_corr, _ = spearmanr(ticker_df['sentiment'], ticker_df['daily_return'])\n",
    "        kendall_corr, _ = kendalltau(ticker_df['sentiment'], ticker_df['daily_return'])\n",
    "        \n",
    "        correlation_results.append({\n",
    "            'Ticker': ticker,\n",
    "            'Pearson': round(pearson_corr, 4),\n",
    "            'Spearman': round(spearman_corr, 4),\n",
    "            'Kendall': round(kendall_corr, 4),\n",
    "            'Data Points': len(ticker_df)\n",
    "        })\n",
    "    else:\n",
    "        correlation_results.append({\n",
    "            'Ticker': ticker,\n",
    "            'Pearson': None,\n",
    "            'Spearman': None,\n",
    "            'Kendall': None,\n",
    "            'Data Points': len(ticker_df)\n",
    "        })\n",
    "\n",
    "# Display as a DataFrame\n",
    "correlation_df = pd.DataFrame(correlation_results)\n",
    "print(correlation_df)\n"
   ]
  },
  {
   "cell_type": "code",
   "execution_count": 65,
   "id": "e3270303",
   "metadata": {},
   "outputs": [
    {
     "data": {
      "image/png": "[encoded data removed]",
      "text/plain": [
       "<Figure size 600x400 with 2 Axes>"
      ]
     },
     "metadata": {},
     "output_type": "display_data"
    },
    {
     "data": {
      "image/png": "[encoded data removed]",
      "text/plain": [
       "<Figure size 600x400 with 2 Axes>"
      ]
     },
     "metadata": {},
     "output_type": "display_data"
    }
   ],
   "source": [
    "import seaborn as sns\n",
    "import matplotlib.pyplot as plt\n",
    "\n",
    "# Select tickers you want to visualize\n",
    "selected_tickers = ['NVDA', 'GOOG']\n",
    "\n",
    "for ticker in selected_tickers:\n",
    "    # Filter the data\n",
    "    ticker_df = merged_df[merged_df['Ticker'] == ticker].dropna(subset=['sentiment', 'daily_return'])\n",
    "\n",
    "    # Only proceed if more than 2 data points exist\n",
    "    if len(ticker_df) > 2:\n",
    "        # Compute correlation matrix\n",
    "        corr_matrix = ticker_df[['sentiment', 'daily_return']].corr()\n",
    "\n",
    "        # Plot heatmap\n",
    "        plt.figure(figsize=(6, 4))\n",
    "        sns.heatmap(corr_matrix, annot=True, cmap='coolwarm', fmt=\".2f\", vmin=-1, vmax=1)\n",
    "        plt.title(f'Correlation Heatmap for {ticker}')\n",
    "        plt.tight_layout()\n",
    "        plt.show()\n",
    "    else:\n",
    "        print(f\"Not enough data to compute correlation for {ticker} (only {len(ticker_df)} points).\")\n"
   ]
  },
  {
   "cell_type": "markdown",
   "id": "d9c974e6",
   "metadata": {},
   "source": [
    "🧪 Correlation Analysis: Sentiment vs Daily Return\n",
    "After merging daily news sentiment with corresponding stock price data, we calculated Pearson, Spearman, and Kendall correlation coefficients for each ticker. The results are summarized below:\n",
    "\n",
    "Ticker\tPearson\tSpearman\tKendall\tData Points\n",
    "AAPL\tNaN\tNaN\tNaN\t2\n",
    "AMZN\tNaN\tNaN\tNaN\t2\n",
    "GOOG\t-0.2344\t-0.4104\t-0.3162\t5\n",
    "NVDA\t0.5227\t0.8000\t0.6667\t4\n",
    "TSLA\tNaN\tNaN\tNaN\t1\n",
    "\n",
    "📉 Why Are There NaN Values?\n",
    "Insufficient Data: Tickers like AAPL, AMZN, and TSLA had fewer than 3 data points after merging sentiment and price data. Most correlation techniques (especially Spearman and Kendall) require at least 3 non-null paired observations to compute a statistically meaningful relationship.\n",
    "\n",
    "When fewer than 3 valid data points are present, correlation functions return NaN, indicating the result is undefined or unreliable.\n",
    "\n",
    "🔍 Why Are META and MSFT Missing?\n",
    "These tickers do not appear in the final merged dataset (merged_df) at all.\n",
    "\n",
    "Possible reasons:\n",
    "\n",
    "There are no news headlines for META and MSFT in the raw_analyst_ratings.csv file.\n",
    "\n",
    "Or, although news existed, it did not match with any available stock price date (i.e., no overlap in dates between sentiment data and stock price data).\n",
    "\n",
    "Another possibility is a mismatch in ticker names (e.g., META used to be FB)—this might lead to their exclusion during filtering.\n",
    "\n",
    "✅ Useful Ticker Correlations\n",
    "GOOG and NVDA had sufficient data points (5 and 4 respectively) to compute correlations.\n",
    "\n",
    "NVDA showed a moderately strong positive correlation between sentiment and return across all three metrics, suggesting news sentiment may influence or reflect short-term returns.\n",
    "\n",
    "GOOG had a weak to moderate negative correlation, indicating a potential inverse relationship, though the small sample size warrants caution in interpretation."
   ]
  }
 ],
 "metadata": {
  "kernelspec": {
   "display_name": ".venv",
   "language": "python",
   "name": "python3"
  },
  "language_info": {
   "codemirror_mode": {
    "name": "ipython",
    "version": 3
   },
   "file_extension": ".py",
   "mimetype": "text/x-python",
   "name": "python",
   "nbconvert_exporter": "python",
   "pygments_lexer": "ipython3",
   "version": "3.13.3"
  }
 },
 "nbformat": 4,
 "nbformat_minor": 5
}
